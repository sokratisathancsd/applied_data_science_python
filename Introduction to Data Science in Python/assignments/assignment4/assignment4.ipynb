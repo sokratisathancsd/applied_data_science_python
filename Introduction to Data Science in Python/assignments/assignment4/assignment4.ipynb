{
 "cells": [
  {
   "cell_type": "markdown",
   "metadata": {
    "deletable": false,
    "editable": false,
    "nbgrader": {
     "checksum": "48770f8b5f5d3062d3badd51fcafc401",
     "grade": false,
     "grade_id": "cell-a6c4f74309fc2379",
     "locked": true,
     "schema_version": 1,
     "solution": false
    }
   },
   "source": [
    "# Assignment 4\n",
    "## Description\n",
    "In this assignment you must read in a file of metropolitan regions and associated sports teams from [assets/wikipedia_data.html](assets/wikipedia_data.html) and answer some questions about each metropolitan region. Each of these regions may have one or more teams from the \"Big 4\": NFL (football, in [assets/nfl.csv](assets/nfl.csv)), MLB (baseball, in [assets/mlb.csv](assets/mlb.csv)), NBA (basketball, in [assets/nba.csv](assets/nba.csv) or NHL (hockey, in [assets/nhl.csv](assets/nhl.csv)). Please keep in mind that all questions are from the perspective of the metropolitan region, and that this file is the \"source of authority\" for the location of a given sports team. Thus teams which are commonly known by a different area (e.g. \"Oakland Raiders\") need to be mapped into the metropolitan region given (e.g. San Francisco Bay Area). This will require some human data understanding outside of the data you've been given (e.g. you will have to hand-code some names, and might need to google to find out where teams are)!\n",
    "\n",
    "For each sport I would like you to answer the question: **what is the win/loss ratio's correlation with the population of the city it is in?** Win/Loss ratio refers to the number of wins over the number of wins plus the number of losses. Remember that to calculate the correlation with [`pearsonr`](https://docs.scipy.org/doc/scipy/reference/generated/scipy.stats.pearsonr.html), so you are going to send in two ordered lists of values, the populations from the wikipedia_data.html file and the win/loss ratio for a given sport in the same order. Average the win/loss ratios for those cities which have multiple teams of a single sport. Each sport is worth an equal amount in this assignment (20%\\*4=80%) of the grade for this assignment. You should only use data **from year 2018** for your analysis -- this is important!\n",
    "\n",
    "## Notes\n",
    "\n",
    "1. Do not include data about the MLS or CFL in any of the work you are doing, we're only interested in the Big 4 in this assignment.\n",
    "2. I highly suggest that you first tackle the four correlation questions in order, as they are all similar and worth the majority of grades for this assignment. This is by design!\n",
    "3. It's fair game to talk with peers about high level strategy as well as the relationship between metropolitan areas and sports teams. However, do not post code solving aspects of the assignment (including such as dictionaries mapping areas to teams, or regexes which will clean up names).\n",
    "4. There may be more teams than the assert statements test, remember to collapse multiple teams in one city into a single value!"
   ]
  },
  {
   "cell_type": "markdown",
   "metadata": {
    "deletable": false,
    "editable": false,
    "nbgrader": {
     "checksum": "369ff9ecf0ee04640574205cbc697f94",
     "grade": false,
     "grade_id": "cell-712b2b5da63d4505",
     "locked": true,
     "schema_version": 1,
     "solution": false
    }
   },
   "source": [
    "## Question 1\n",
    "For this question, calculate the win/loss ratio's correlation with the population of the city it is in for the **NHL** using **2018** data."
   ]
  },
  {
   "cell_type": "code",
   "execution_count": 32,
   "metadata": {
    "deletable": false,
    "nbgrader": {
     "checksum": "1cac4803b02502929f5b1612d48db2b5",
     "grade": false,
     "grade_id": "cell-69b16e4386e58030",
     "locked": false,
     "schema_version": 1,
     "solution": true
    }
   },
   "outputs": [],
   "source": [
    "import pandas as pd\n",
    "import numpy as np\n",
    "import scipy.stats as stats\n",
    "import re\n",
    "from collections import Counter\n",
    "import math\n",
    "\n",
    "nhl_df=pd.read_csv(\"assets/nhl.csv\")\n",
    "cities=pd.read_html(\"assets/wikipedia_data.html\")[1]\n",
    "cities=cities.iloc[:-1,[0,3,5,6,7,8]]\n",
    "\n",
    "WORD = re.compile(r\"\\w+\")\n",
    "\n",
    "def get_cosine(vec1, vec2):\n",
    "    intersection = set(vec1.keys()) & set(vec2.keys())\n",
    "    numerator = sum([vec1[x] * vec2[x] for x in intersection])\n",
    "    sum1 = sum([vec1[x] ** 2 for x in list(vec1.keys())])\n",
    "    sum2 = sum([vec2[x] ** 2 for x in list(vec2.keys())])\n",
    "    denominator = math.sqrt(sum1) * math.sqrt(sum2)\n",
    "    if not denominator:\n",
    "        return 0.0\n",
    "    else:\n",
    "        return float(numerator) / denominator\n",
    "\n",
    "def text_to_vector(text):\n",
    "    words = WORD.findall(text)\n",
    "    return Counter(words)\n",
    "'''text1='Los Angeles Kings'\n",
    "    text2='Las Vegas'\n",
    "    \n",
    "    ve1=text_to_vector(text1)\n",
    "    ve2=text_to_vector(text2)\n",
    "    print(get_cosine(ve1,ve2))'''\n",
    "\n",
    "def preProcessData1():\n",
    "    #Basic preProcessing on dataframes\n",
    "    #NHL Dataframe\n",
    "    nhl = nhl_df[['team','W','L','year']]\n",
    "    nhl.where(nhl['year'] == 2018, inplace=True)\n",
    "    nhl.dropna(inplace=True)\n",
    "    nhl = nhl[['team','W','L']]\n",
    "    nhl.columns=['Team','Wins','Loses']\n",
    "    nhl['Wins']=nhl['Wins'].str.extract('(\\d+)', expand=False)\n",
    "    nhl.dropna(inplace=True)\n",
    "    nhl['Team']=nhl['Team'].replace(to_replace ='\\*', value = '', regex = True)\n",
    "    nhl.sort_values(by=['Team'], ascending=True, inplace=True)\n",
    "    nhl.set_index('Team', inplace=True)\n",
    "    #Cities Dataframe\n",
    "    c = cities.drop(['MLB', 'NFL', 'NBA'], axis=1)\n",
    "    c.columns = ['City','Population','Team']\n",
    "    c['Team']=c['Team'].replace(to_replace ='\\[.*', value = '', regex = True)\n",
    "    c['Team']=c['Team'].replace(\"\",np.nan)\n",
    "    c['Team']=c['Team'].replace(\"—\",np.nan)\n",
    "    c.dropna(inplace=True)\n",
    "    c.reset_index(drop=True, inplace=True)\n",
    "    c['Team']=c['City']+' '+c['Team']\n",
    "    c.set_index('Team', inplace=True)\n",
    "    c.sort_values(by=['Team'], ascending=True, inplace=True)\n",
    "    #c = c.drop(['City'],axis=1)\n",
    "    ct=[]\n",
    "    for team in nhl.index:\n",
    "        flag=False\n",
    "        maxc=0\n",
    "        outc=np.nan\n",
    "        for t,city in zip(c.index,c['City']):\n",
    "            vec1,vec2 = text_to_vector(team), text_to_vector(t)\n",
    "            cos = get_cosine(vec1,vec2)\n",
    "            if(cos>maxc):\n",
    "                maxc=cos\n",
    "                outc=city\n",
    "        ct.append(outc)\n",
    "    nhl['City']=ct\n",
    "    #HandCode some results\n",
    "    nhl.loc['Anaheim Ducks']['City']='Los Angeles'\n",
    "    return nhl, c\n",
    "\n",
    "def nhl_correlation(flag=None): \n",
    "    # YOUR CODE HERE\n",
    "    #raise NotImplementedError()\n",
    "    df1,df2= preProcessData1()\n",
    "    df1['Win_Loss']=df1['Wins'].astype(int)/(df1['Loses'].astype(int)+df1['Wins'].astype(int))\n",
    "    df1.sort_values('City')\n",
    "    df2.sort_values('City')\n",
    "    w_l_mean=[]\n",
    "    cities=[]\n",
    "    for group, frame in df1.groupby('City'):\n",
    "        cities.append(group)\n",
    "        w_l_mean.append(frame['Win_Loss'].mean())\n",
    "    #print(w_l_mean, cities, df2['Population'].tolist())\n",
    "    population_by_region = list(map(int,df2['Population'].tolist())) # pass in metropolitan area population from cities\n",
    "    win_loss_by_region = w_l_mean # pass in win/loss ratio from nhl_df in the same order as cities[\"Metropolitan area\"]\n",
    "\n",
    "    assert len(population_by_region) == len(win_loss_by_region), \"Q1: Your lists must be the same length\"\n",
    "    assert len(population_by_region) == 28, \"Q1: There should be 28 teams being analysed for NHL\"\n",
    "    \n",
    "    if(flag):\n",
    "        return df1, df2\n",
    "    return stats.pearsonr(population_by_region, win_loss_by_region)[0]"
   ]
  },
  {
   "cell_type": "code",
   "execution_count": 33,
   "metadata": {},
   "outputs": [
    {
     "data": {
      "text/plain": [
       "0.012486162921209907"
      ]
     },
     "execution_count": 33,
     "metadata": {},
     "output_type": "execute_result"
    }
   ],
   "source": [
    "nhl_correlation()"
   ]
  },
  {
   "cell_type": "code",
   "execution_count": null,
   "metadata": {
    "deletable": false,
    "editable": false,
    "nbgrader": {
     "checksum": "52a581df513c71153e105b93764cda4b",
     "grade": true,
     "grade_id": "cell-ebe0b2dfe1067e63",
     "locked": true,
     "points": 20,
     "schema_version": 1,
     "solution": false
    }
   },
   "outputs": [],
   "source": []
  },
  {
   "cell_type": "markdown",
   "metadata": {
    "deletable": false,
    "editable": false,
    "nbgrader": {
     "checksum": "988912cae4968d81473f46d783e79c16",
     "grade": false,
     "grade_id": "cell-cb964e690298b71d",
     "locked": true,
     "schema_version": 1,
     "solution": false
    }
   },
   "source": [
    "## Question 2\n",
    "For this question, calculate the win/loss ratio's correlation with the population of the city it is in for the **NBA** using **2018** data."
   ]
  },
  {
   "cell_type": "code",
   "execution_count": 34,
   "metadata": {
    "deletable": false,
    "nbgrader": {
     "checksum": "9394222aafc8ccab0a228098ba0d6010",
     "grade": false,
     "grade_id": "cell-5a5f21279e3d3572",
     "locked": false,
     "schema_version": 1,
     "solution": true
    }
   },
   "outputs": [],
   "source": [
    "import pandas as pd\n",
    "import numpy as np\n",
    "import scipy.stats as stats\n",
    "import re\n",
    "from collections import Counter\n",
    "import math\n",
    "\n",
    "nba_df=pd.read_csv(\"assets/nba.csv\")\n",
    "cities=pd.read_html(\"assets/wikipedia_data.html\")[1]\n",
    "cities=cities.iloc[:-1,[0,3,5,6,7,8]]\n",
    "WORD = re.compile(r\"\\w+\")\n",
    "\n",
    "def get_cosine(vec1, vec2):\n",
    "    intersection = set(vec1.keys()) & set(vec2.keys())\n",
    "    numerator = sum([vec1[x] * vec2[x] for x in intersection])\n",
    "    sum1 = sum([vec1[x] ** 2 for x in list(vec1.keys())])\n",
    "    sum2 = sum([vec2[x] ** 2 for x in list(vec2.keys())])\n",
    "    denominator = math.sqrt(sum1) * math.sqrt(sum2)\n",
    "    if not denominator:\n",
    "        return 0.0\n",
    "    else:\n",
    "        return float(numerator) / denominator\n",
    "\n",
    "def text_to_vector(text):\n",
    "    words = WORD.findall(text)\n",
    "    return Counter(words)\n",
    "'''text1='Los Angeles Kings'\n",
    "    text2='Las Vegas'\n",
    "    ve1=text_to_vector(text1)\n",
    "    ve2=text_to_vector(text2)\n",
    "    print(get_cosine(ve1,ve2))'''\n",
    "\n",
    "def preProcessData2():\n",
    "    #Basic preProcessing on dataframes\n",
    "    #NBA Dataframe\n",
    "    nba = nba_df[['team','W','L','year']]\n",
    "    nba.where(nba['year'] == 2018, inplace=True)\n",
    "    nba.dropna(inplace=True)\n",
    "    nba = nba[['team','W','L']]\n",
    "    nba.columns=['Team','Wins','Loses']\n",
    "    nba['Wins']=nba['Wins'].str.extract('(\\d+)', expand=False)\n",
    "    nba.dropna(inplace=True)\n",
    "    nba['Team']=nba['Team'].replace(to_replace ='\\*', value = '', regex = True)\n",
    "    nba.sort_values(by=['Team'], ascending=True, inplace=True)\n",
    "    nba.set_index('Team', inplace=True)\n",
    "    #Cities Dataframe\n",
    "    c = cities.drop(['MLB', 'NFL', 'NHL'], axis=1)\n",
    "    c.columns = ['City','Population','Team']\n",
    "    c['Team']=c['Team'].replace(to_replace ='\\[.*', value = '', regex = True)\n",
    "    c['Team']=c['Team'].replace(\"\",np.nan)\n",
    "    c['Team']=c['Team'].replace(\"—\",np.nan)\n",
    "    c.dropna(inplace=True)\n",
    "    c.reset_index(drop=True, inplace=True)\n",
    "    c['Team']=c['City']+' '+c['Team']\n",
    "    c.set_index('Team', inplace=True)\n",
    "    c.sort_values(by=['Team'], ascending=True, inplace=True)\n",
    "    #c = c.drop(['City'],axis=1)\n",
    "    ct=[]\n",
    "    for team in nba.index:\n",
    "        flag=False\n",
    "        maxc=0\n",
    "        outc=np.nan\n",
    "        for t,city in zip(c.index,c['City']):\n",
    "            vec1,vec2 = text_to_vector(team), text_to_vector(t)\n",
    "            cos = get_cosine(vec1,vec2)\n",
    "            if(cos>maxc):\n",
    "                maxc=cos\n",
    "                outc=city\n",
    "        ct.append(outc)\n",
    "    nba['City']=ct\n",
    "    #HandCode some results\n",
    "    nba.loc['Brooklyn Nets (12)']['City']='New York City'\n",
    "    return nba, c\n",
    "\n",
    "def nba_correlation(flag=None):\n",
    "    # YOUR CODE HERE\n",
    "    df11,df22= preProcessData2()\n",
    "    df11['Win_Loss']=df11['Wins'].astype(int)/(df11['Loses'].astype(int)+df11['Wins'].astype(int))\n",
    "    df11.sort_values('City')\n",
    "    df22.sort_values('City')\n",
    "    w_l_mean=[]\n",
    "    cities=[]\n",
    "    for group, frame in df11.groupby('City'):\n",
    "        cities.append(group)\n",
    "        w_l_mean.append(frame['Win_Loss'].mean())\n",
    "    #raise NotImplementedError()\n",
    "    population_by_region = list(map(int,df22['Population'].tolist())) # pass in metropolitan area population from cities\n",
    "    win_loss_by_region = w_l_mean# pass in win/loss ratio from nba_df in the same order as cities[\"Metropolitan area\"]\n",
    "\n",
    "    assert len(population_by_region) == len(win_loss_by_region), \"Q2: Your lists must be the same length\"\n",
    "    assert len(population_by_region) == 28, \"Q2: There should be 28 teams being analysed for NBA\"\n",
    "\n",
    "    if(flag):\n",
    "        return df11, df22\n",
    "    return stats.pearsonr(population_by_region, win_loss_by_region)[0]"
   ]
  },
  {
   "cell_type": "code",
   "execution_count": 35,
   "metadata": {},
   "outputs": [
    {
     "data": {
      "text/plain": [
       "-0.17657160252844617"
      ]
     },
     "execution_count": 35,
     "metadata": {},
     "output_type": "execute_result"
    }
   ],
   "source": [
    "nba_correlation()"
   ]
  },
  {
   "cell_type": "code",
   "execution_count": null,
   "metadata": {
    "deletable": false,
    "editable": false,
    "nbgrader": {
     "checksum": "bbdeb8eb22f525a34c10dc8798324e42",
     "grade": true,
     "grade_id": "cell-e573b2b4a282b470",
     "locked": true,
     "points": 20,
     "schema_version": 1,
     "solution": false
    }
   },
   "outputs": [],
   "source": []
  },
  {
   "cell_type": "markdown",
   "metadata": {
    "deletable": false,
    "editable": false,
    "nbgrader": {
     "checksum": "1a1a5809f675ca033086422007cd73bd",
     "grade": false,
     "grade_id": "cell-96e15e4335df78f4",
     "locked": true,
     "schema_version": 1,
     "solution": false
    }
   },
   "source": [
    "## Question 3\n",
    "For this question, calculate the win/loss ratio's correlation with the population of the city it is in for the **MLB** using **2018** data."
   ]
  },
  {
   "cell_type": "code",
   "execution_count": 36,
   "metadata": {
    "deletable": false,
    "nbgrader": {
     "checksum": "27e8c0da6c9fa0dffc10488314335b6c",
     "grade": false,
     "grade_id": "cell-33b00fc3f3467b0c",
     "locked": false,
     "schema_version": 1,
     "solution": true
    }
   },
   "outputs": [],
   "source": [
    "import pandas as pd\n",
    "import numpy as np\n",
    "import scipy.stats as stats\n",
    "import re\n",
    "from collections import Counter\n",
    "import math\n",
    "\n",
    "mlb_df=pd.read_csv(\"assets/mlb.csv\")\n",
    "cities=pd.read_html(\"assets/wikipedia_data.html\")[1]\n",
    "cities=cities.iloc[:-1,[0,3,5,6,7,8]]\n",
    "\n",
    "WORD = re.compile(r\"\\w+\")\n",
    "def get_cosine(vec1, vec2):\n",
    "    intersection = set(vec1.keys()) & set(vec2.keys())\n",
    "    numerator = sum([vec1[x] * vec2[x] for x in intersection])\n",
    "    sum1 = sum([vec1[x] ** 2 for x in list(vec1.keys())])\n",
    "    sum2 = sum([vec2[x] ** 2 for x in list(vec2.keys())])\n",
    "    denominator = math.sqrt(sum1) * math.sqrt(sum2)\n",
    "    if not denominator:\n",
    "        return 0.0\n",
    "    else:\n",
    "        return float(numerator) / denominator\n",
    "def text_to_vector(text):\n",
    "    words = WORD.findall(text)\n",
    "    return Counter(words)\n",
    "'''text1='Los Angeles Kings'\n",
    "    text2='Las Vegas'\n",
    "    ve1=text_to_vector(text1)\n",
    "    ve2=text_to_vector(text2)\n",
    "    print(get_cosine(ve1,ve2))'''\n",
    "\n",
    "def preProcessData3():\n",
    "    #Basic preProcessing on dataframes\n",
    "    #NBA Dataframe\n",
    "    mlb = mlb_df[['team','W','L','year']]\n",
    "    mlb.where(mlb['year'] == 2018, inplace=True)\n",
    "    mlb.dropna(inplace=True)\n",
    "    mlb = mlb[['team','W','L']]\n",
    "    mlb.columns=['Team','Wins','Loses']\n",
    "    #mlb['Wins']=mlb['Wins'].str.extract('(\\d+)', expand=False)\n",
    "    mlb.dropna(inplace=True)\n",
    "    mlb['Team']=mlb['Team'].replace(to_replace ='\\*', value = '', regex = True)\n",
    "    mlb.sort_values(by=['Team'], ascending=True, inplace=True)\n",
    "    mlb.set_index('Team', inplace=True)\n",
    "    #Cities Dataframe\n",
    "    c = cities.drop(['NBA', 'NFL', 'NHL'], axis=1)\n",
    "    c.columns = ['City','Population','Team']\n",
    "    c['Team']=c['Team'].replace(to_replace ='\\[.*', value = '', regex = True)\n",
    "    c['Team']=c['Team'].replace(\"\",np.nan)\n",
    "    c['Team']=c['Team'].replace(\"—\",np.nan)\n",
    "    c.dropna(inplace=True)\n",
    "    c.reset_index(drop=True, inplace=True)\n",
    "    c['Team']=c['City']+' '+c['Team']\n",
    "    c.set_index('Team', inplace=True)\n",
    "    c.sort_values(by=['Team'], ascending=True, inplace=True)\n",
    "    #c = c.drop(['City'],axis=1)\n",
    "    ct=[]\n",
    "    for team in mlb.index:\n",
    "        flag=False\n",
    "        maxc=0\n",
    "        outc=np.nan\n",
    "        for t,city in zip(c.index,c['City']):\n",
    "            vec1,vec2 = text_to_vector(team), text_to_vector(t)\n",
    "            cos = get_cosine(vec1,vec2)\n",
    "            if(cos>maxc):\n",
    "                maxc=cos\n",
    "                outc=city\n",
    "        ct.append(outc)\n",
    "    mlb['City']=ct\n",
    "    #HandCode some results\n",
    "    mlb.loc['Oakland Athletics','City']='San Francisco Bay Area'\n",
    "    return mlb, c\n",
    "\n",
    "def mlb_correlation(flag=None): \n",
    "    # YOUR CODE HERE\n",
    "    df111,df222= preProcessData3()\n",
    "    df111['Win_Loss']=df111['Wins'].astype(int)/(df111['Loses'].astype(int)+df111['Wins'].astype(int))\n",
    "    df111.sort_values('City')\n",
    "    df222.sort_values('City')\n",
    "    w_l_mean=[]\n",
    "    cities=[]\n",
    "    for group, frame in df111.groupby('City'):\n",
    "        cities.append(group)\n",
    "        w_l_mean.append(frame['Win_Loss'].mean())\n",
    "    #raise NotImplementedError()\n",
    "    population_by_region = list(map(int,df222['Population'].tolist())) # pass in metropolitan area population from cities\n",
    "    win_loss_by_region = w_l_mean# pass in win/loss ratio from mlb_df in the same order as cities[\"Metropolitan area\"]\n",
    "\n",
    "    assert len(population_by_region) == len(win_loss_by_region), \"Q3: Your lists must be the same length\"\n",
    "    assert len(population_by_region) == 26, \"Q3: There should be 26 teams being analysed for MLB\"\n",
    "    \n",
    "    if(flag):\n",
    "        return df111,df222\n",
    "    return stats.pearsonr(population_by_region, win_loss_by_region)[0]"
   ]
  },
  {
   "cell_type": "code",
   "execution_count": 37,
   "metadata": {},
   "outputs": [
    {
     "data": {
      "text/plain": [
       "0.15027698302669307"
      ]
     },
     "execution_count": 37,
     "metadata": {},
     "output_type": "execute_result"
    }
   ],
   "source": [
    "mlb_correlation()"
   ]
  },
  {
   "cell_type": "code",
   "execution_count": null,
   "metadata": {
    "deletable": false,
    "editable": false,
    "nbgrader": {
     "checksum": "cda33b094ba19ccc37a481e0dd29e0bc",
     "grade": true,
     "grade_id": "cell-764d4476f425c5a2",
     "locked": true,
     "points": 20,
     "schema_version": 1,
     "solution": false
    }
   },
   "outputs": [],
   "source": []
  },
  {
   "cell_type": "markdown",
   "metadata": {
    "deletable": false,
    "editable": false,
    "nbgrader": {
     "checksum": "6977a6da9ed6d8b7a0b7e37bbeda709b",
     "grade": false,
     "grade_id": "cell-793df6c04dfb126e",
     "locked": true,
     "schema_version": 1,
     "solution": false
    }
   },
   "source": [
    "## Question 4\n",
    "For this question, calculate the win/loss ratio's correlation with the population of the city it is in for the **NFL** using **2018** data."
   ]
  },
  {
   "cell_type": "code",
   "execution_count": 38,
   "metadata": {
    "deletable": false,
    "nbgrader": {
     "checksum": "c4914ad1e119278ec2bd567c52640b66",
     "grade": false,
     "grade_id": "cell-8ccebc209aeec8d9",
     "locked": false,
     "schema_version": 1,
     "solution": true
    }
   },
   "outputs": [],
   "source": [
    "import pandas as pd\n",
    "import numpy as np\n",
    "import scipy.stats as stats\n",
    "import re\n",
    "from collections import Counter\n",
    "import math\n",
    "\n",
    "nfl_df=pd.read_csv(\"assets/nfl.csv\")\n",
    "cities=pd.read_html(\"assets/wikipedia_data.html\")[1]\n",
    "cities=cities.iloc[:-1,[0,3,5,6,7,8]]\n",
    "WORD = re.compile(r\"\\w+\")\n",
    "def get_cosine(vec1, vec2):\n",
    "    intersection = set(vec1.keys()) & set(vec2.keys())\n",
    "    numerator = sum([vec1[x] * vec2[x] for x in intersection])\n",
    "    sum1 = sum([vec1[x] ** 2 for x in list(vec1.keys())])\n",
    "    sum2 = sum([vec2[x] ** 2 for x in list(vec2.keys())])\n",
    "    denominator = math.sqrt(sum1) * math.sqrt(sum2)\n",
    "    if not denominator:\n",
    "        return 0.0\n",
    "    else:\n",
    "        return float(numerator) / denominator\n",
    "def text_to_vector(text):\n",
    "    words = WORD.findall(text)\n",
    "    return Counter(words)\n",
    "'''text1='Los Angeles Kings'\n",
    "    text2='Las Vegas'\n",
    "    ve1=text_to_vector(text1)\n",
    "    ve2=text_to_vector(text2)\n",
    "    print(get_cosine(ve1,ve2))'''\n",
    "\n",
    "def preProcessData4():\n",
    "    #Basic preProcessing on dataframes\n",
    "    #NBA Dataframe\n",
    "    nfl = nfl_df[['team','W','L','year']]\n",
    "    nfl.where(nfl['year'] == 2018, inplace=True)\n",
    "    nfl.dropna(inplace=True)\n",
    "    nfl = nfl[['team','W','L']]\n",
    "    nfl.columns=['Team','Wins','Loses']\n",
    "    #mlb['Wins']=mlb['Wins'].str.extract('(\\d+)', expand=False)\n",
    "    nfl.dropna(inplace=True)\n",
    "    nfl['Team']=nfl['Team'].replace(to_replace ='\\*', value = '', regex = True)\n",
    "    nfl.sort_values(by=['Team'], ascending=True, inplace=True)\n",
    "    nfl.set_index('Team', inplace=True)\n",
    "    #Cities Dataframe\n",
    "    c = cities.drop(['NBA', 'MLB', 'NHL'], axis=1)\n",
    "    c.columns = ['City','Population','Team']\n",
    "    c['Team']=c['Team'].replace(to_replace ='\\[.*', value = '', regex = True)\n",
    "    c['Team']=c['Team'].replace(\"\",np.nan)\n",
    "    c['Team']=c['Team'].replace(\"—\",np.nan)\n",
    "    c.dropna(inplace=True)\n",
    "    c.reset_index(drop=True, inplace=True)\n",
    "    c.drop([13],inplace=True)\n",
    "    c['Team']=c['City']+' '+c['Team']\n",
    "    c.set_index('Team', inplace=True)\n",
    "    c.sort_values(by=['Team'], ascending=True, inplace=True)\n",
    "    #c = c.drop(['City'],axis=1)\n",
    "    ct=[]\n",
    "    for team in nfl.index:\n",
    "        flag=False\n",
    "        maxc=0\n",
    "        outc=np.nan\n",
    "        for t,city in zip(c.index,c['City']):\n",
    "            vec1,vec2 = text_to_vector(team), text_to_vector(t)\n",
    "            cos = get_cosine(vec1,vec2)\n",
    "            if(cos>maxc):\n",
    "                maxc=cos\n",
    "                outc=city\n",
    "        ct.append(outc)\n",
    "    nfl['City']=ct\n",
    "    #HandCode some results\n",
    "    #nfl.loc['Toronto —','Team']='San Francisco Bay Area'\n",
    "    return nfl, c\n",
    "\n",
    "def nfl_correlation(flag = None): \n",
    "    # YOUR CODE HERE\n",
    "    df1111,df2222= preProcessData4()\n",
    "    df1111.drop(['AFC East','AFC North','AFC South','AFC West','NFC East','NFC North','NFC South','NFC West'], inplace=True)\n",
    "    df1111['Win_Loss']=df1111['Wins'].astype(int)/(df1111['Loses'].astype(int)+df1111['Wins'].astype(int))\n",
    "    df1111.sort_values('City')\n",
    "    df2222.sort_values('City')\n",
    "    w_l_mean=[]\n",
    "    cities=[]\n",
    "    for group, frame in df1111.groupby('City'):\n",
    "        cities.append(group)\n",
    "        w_l_mean.append(frame['Win_Loss'].mean())\n",
    "    #raise NotImplementedError()\n",
    "    population_by_region = list(map(int,df2222['Population'].tolist())) # pass in metropolitan area population from cities\n",
    "    win_loss_by_region = w_l_mean# pass in win/loss ratio from mlb_df in the same order as cities[\"Metropolitan area\"]\n",
    "\n",
    "    assert len(population_by_region) == len(win_loss_by_region), \"Q4: Your lists must be the same length\"\n",
    "    assert len(population_by_region) == 29, \"Q4: There should be 29 teams being analysed for NFL\"\n",
    "    \n",
    "    if(flag):\n",
    "        return df1111, df2222\n",
    "    return stats.pearsonr(population_by_region, win_loss_by_region)[0]"
   ]
  },
  {
   "cell_type": "code",
   "execution_count": 39,
   "metadata": {},
   "outputs": [
    {
     "data": {
      "text/plain": [
       "0.004922112149349393"
      ]
     },
     "execution_count": 39,
     "metadata": {},
     "output_type": "execute_result"
    }
   ],
   "source": [
    "nfl_correlation()"
   ]
  },
  {
   "cell_type": "code",
   "execution_count": null,
   "metadata": {
    "deletable": false,
    "editable": false,
    "nbgrader": {
     "checksum": "e9415d6399aa49e3a1a60813afdefa3b",
     "grade": true,
     "grade_id": "cell-de7b148b9554dbda",
     "locked": true,
     "points": 20,
     "schema_version": 1,
     "solution": false
    }
   },
   "outputs": [],
   "source": []
  },
  {
   "cell_type": "markdown",
   "metadata": {
    "deletable": false,
    "editable": false,
    "nbgrader": {
     "checksum": "b02d5cd3273f561e4ae939bb2a41740c",
     "grade": false,
     "grade_id": "cell-97b49d8639e908c4",
     "locked": true,
     "schema_version": 1,
     "solution": false
    }
   },
   "source": [
    "## Question 5\n",
    "In this question I would like you to explore the hypothesis that **given that an area has two sports teams in different sports, those teams will perform the same within their respective sports**. How I would like to see this explored is with a series of paired t-tests (so use [`ttest_rel`](https://docs.scipy.org/doc/scipy/reference/generated/scipy.stats.ttest_rel.html)) between all pairs of sports. Are there any sports where we can reject the null hypothesis? Again, average values where a sport has multiple teams in one region. Remember, you will only be including, for each sport, cities which have teams engaged in that sport, drop others as appropriate. This question is worth 20% of the grade for this assignment."
   ]
  },
  {
   "cell_type": "code",
   "execution_count": 103,
   "metadata": {
    "deletable": false,
    "nbgrader": {
     "checksum": "6d78c961eb66f8d8c81f06d33ae8f393",
     "grade": false,
     "grade_id": "cell-92f25f44b8d1179f",
     "locked": false,
     "schema_version": 1,
     "solution": true
    }
   },
   "outputs": [],
   "source": [
    "import pandas as pd\n",
    "import numpy as np\n",
    "import scipy.stats as stats\n",
    "import re\n",
    "\n",
    "def sports_team_performance():\n",
    "    # YOUR CODE HERE\n",
    "    #raise NotImplementedError()\n",
    "    \n",
    "    nhl_df, c1=nhl_correlation(flag=True)\n",
    "    mlb_df, c2=mlb_correlation(flag=True)\n",
    "    nba_df, c3=nba_correlation(flag=True)\n",
    "    nfl_df, c4=nfl_correlation(flag=True)\n",
    "    nhl_df.reset_index(inplace=True)\n",
    "    mlb_df.reset_index(inplace=True)\n",
    "    nba_df.reset_index(inplace=True)\n",
    "    nfl_df.reset_index(inplace=True)\n",
    "    \n",
    "    nhl_df = nhl_df.groupby('City').mean().reset_index()\n",
    "    mlb_df = mlb_df.groupby('City').mean().reset_index()\n",
    "    nba_df = nba_df.groupby('City').mean().reset_index()\n",
    "    nfl_df = nfl_df.groupby('City').mean().reset_index()\n",
    "    # Note: p_values is a full dataframe, so df.loc[\"NFL\",\"NBA\"] should be the same as df.loc[\"NBA\",\"NFL\"] and\n",
    "    # df.loc[\"NFL\",\"NFL\"] should return np.nan\n",
    "    #sports = ['NFL', 'NBA', 'NHL', 'MLB']\n",
    "    \n",
    "    nhl_nba = pd.merge(nhl_df, nba_df, on='City')\n",
    "    pval_nhl_nba = stats.ttest_rel(nhl_nba['Win_Loss_x'],nhl_nba['Win_Loss_y'])[1]\n",
    "    \n",
    "    nba_mlb = pd.merge(nba_df, mlb_df, on='City')\n",
    "    pval_nba_mlb = stats.ttest_rel(nba_mlb['Win_Loss_x'],nba_mlb['Win_Loss_y'])[1]\n",
    "    \n",
    "    nba_nfl = pd.merge(nba_df, nfl_df, on='City')\n",
    "    pval_nba_nfl = stats.ttest_rel(nba_nfl['Win_Loss_x'],nba_nfl['Win_Loss_y'])[1]\n",
    "    \n",
    "    nhl_mlb = pd.merge(nhl_df, mlb_df, on='City')\n",
    "    pval_nhl_mlb = stats.ttest_rel(nhl_mlb['Win_Loss_x'],nhl_mlb['Win_Loss_y'])[1]\n",
    "    \n",
    "    nhl_nfl = pd.merge(nhl_df, nfl_df, on='City')\n",
    "    pval_nhl_nfl = stats.ttest_rel(nhl_nfl['Win_Loss_x'],nhl_nfl['Win_Loss_y'])[1]\n",
    "    \n",
    "    nfl_mlb = pd.merge(nfl_df, mlb_df, on='City')\n",
    "    pval_nfl_mlb = stats.ttest_rel(nfl_mlb['Win_Loss_x'],nfl_mlb['Win_Loss_y'])[1]\n",
    "    \n",
    "    pvalues = {\n",
    "       'NFL': {\"NFL\": np.nan, 'NBA': pval_nba_nfl, 'NHL': pval_nhl_nfl, 'MLB': pval_nfl_mlb},\n",
    "       'NBA': {\"NFL\": pval_nba_nfl, 'NBA': np.nan, 'NHL': pval_nhl_nba, 'MLB': pval_nba_mlb},\n",
    "       'NHL': {\"NFL\": pval_nhl_nfl, 'NBA': pval_nhl_nba, 'NHL': np.nan, 'MLB': pval_nhl_mlb},\n",
    "       'MLB': {\"NFL\": pval_nfl_mlb, 'NBA': pval_nba_mlb, 'NHL': pval_nhl_mlb, 'MLB': np.nan}\n",
    "      }\n",
    "    p_values = pd.DataFrame(pvalues)\n",
    "    \n",
    "    assert abs(p_values.loc[\"NBA\", \"NHL\"] - 0.02) <= 1e-2, \"The NBA-NHL p-value should be around 0.02\"\n",
    "    assert abs(p_values.loc[\"MLB\", \"NFL\"] - 0.80) <= 1e-2, \"The MLB-NFL p-value should be around 0.80\"\n",
    "    return p_values"
   ]
  },
  {
   "cell_type": "code",
   "execution_count": null,
   "metadata": {
    "deletable": false,
    "editable": false,
    "nbgrader": {
     "checksum": "2a596ab421a45cc01168d10e8fbb8f89",
     "grade": true,
     "grade_id": "cell-fb4b9cb5ff4570a6",
     "locked": true,
     "points": 20,
     "schema_version": 1,
     "solution": false
    }
   },
   "outputs": [],
   "source": []
  },
  {
   "cell_type": "code",
   "execution_count": 104,
   "metadata": {},
   "outputs": [
    {
     "data": {
      "text/html": [
       "<div>\n",
       "<style scoped>\n",
       "    .dataframe tbody tr th:only-of-type {\n",
       "        vertical-align: middle;\n",
       "    }\n",
       "\n",
       "    .dataframe tbody tr th {\n",
       "        vertical-align: top;\n",
       "    }\n",
       "\n",
       "    .dataframe thead th {\n",
       "        text-align: right;\n",
       "    }\n",
       "</style>\n",
       "<table border=\"1\" class=\"dataframe\">\n",
       "  <thead>\n",
       "    <tr style=\"text-align: right;\">\n",
       "      <th></th>\n",
       "      <th>NFL</th>\n",
       "      <th>NBA</th>\n",
       "      <th>NHL</th>\n",
       "      <th>MLB</th>\n",
       "    </tr>\n",
       "  </thead>\n",
       "  <tbody>\n",
       "    <tr>\n",
       "      <th>NFL</th>\n",
       "      <td>NaN</td>\n",
       "      <td>0.941792</td>\n",
       "      <td>0.030883</td>\n",
       "      <td>0.802069</td>\n",
       "    </tr>\n",
       "    <tr>\n",
       "      <th>NBA</th>\n",
       "      <td>0.941792</td>\n",
       "      <td>NaN</td>\n",
       "      <td>0.022297</td>\n",
       "      <td>0.950540</td>\n",
       "    </tr>\n",
       "    <tr>\n",
       "      <th>NHL</th>\n",
       "      <td>0.030883</td>\n",
       "      <td>0.022297</td>\n",
       "      <td>NaN</td>\n",
       "      <td>0.000708</td>\n",
       "    </tr>\n",
       "    <tr>\n",
       "      <th>MLB</th>\n",
       "      <td>0.802069</td>\n",
       "      <td>0.950540</td>\n",
       "      <td>0.000708</td>\n",
       "      <td>NaN</td>\n",
       "    </tr>\n",
       "  </tbody>\n",
       "</table>\n",
       "</div>"
      ],
      "text/plain": [
       "          NFL       NBA       NHL       MLB\n",
       "NFL       NaN  0.941792  0.030883  0.802069\n",
       "NBA  0.941792       NaN  0.022297  0.950540\n",
       "NHL  0.030883  0.022297       NaN  0.000708\n",
       "MLB  0.802069  0.950540  0.000708       NaN"
      ]
     },
     "execution_count": 104,
     "metadata": {},
     "output_type": "execute_result"
    }
   ],
   "source": [
    "sports_team_performance()"
   ]
  },
  {
   "cell_type": "code",
   "execution_count": null,
   "metadata": {},
   "outputs": [],
   "source": []
  }
 ],
 "metadata": {
  "coursera": {
   "schema_names": [
    "mooc_adswpy_1_v2_assignment4"
   ]
  },
  "kernelspec": {
   "display_name": "Python 3",
   "language": "python",
   "name": "python3"
  },
  "language_info": {
   "codemirror_mode": {
    "name": "ipython",
    "version": 3
   },
   "file_extension": ".py",
   "mimetype": "text/x-python",
   "name": "python",
   "nbconvert_exporter": "python",
   "pygments_lexer": "ipython3",
   "version": "3.7.3"
  }
 },
 "nbformat": 4,
 "nbformat_minor": 4
}
